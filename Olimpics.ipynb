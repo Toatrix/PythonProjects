{
 "cells": [
  {
   "cell_type": "code",
   "execution_count": 1,
   "id": "e4dbbb6a-a9a2-444c-97fe-fee3d6346c04",
   "metadata": {},
   "outputs": [
    {
     "data": {
      "text/html": [
       "\n",
       "        <iframe\n",
       "            width=\"100%\"\n",
       "            height=\"650\"\n",
       "            src=\"http://127.0.0.1:8050/\"\n",
       "            frameborder=\"0\"\n",
       "            allowfullscreen\n",
       "            \n",
       "        ></iframe>\n",
       "        "
      ],
      "text/plain": [
       "<IPython.lib.display.IFrame at 0x127a4e600>"
      ]
     },
     "metadata": {},
     "output_type": "display_data"
    }
   ],
   "source": [
    "import dash\n",
    "from dash import dcc, html\n",
    "from dash.dependencies import Input, Output\n",
    "import pandas as pd\n",
    "import plotly.express as px\n",
    "\n",
    "# Cargar el dataset de los Juegos Olímpicos\n",
    "df_olimpics = pd.read_csv('athlete_events.csv')\n",
    "df_olimpics = df_olimpics[['Year', 'Team', 'Sport', 'Medal', 'Sex']]\n",
    "\n",
    "# Inicializar la app de Dash\n",
    "app = dash.Dash(__name__)\n",
    "\n",
    "# Definir el layout de la app\n",
    "app.layout = html.Div([\n",
    "    html.H1('Medallas Olímpicas'),\n",
    "\n",
    "    html.Div([\n",
    "        html.Label('Seleccionar el País'),\n",
    "        dcc.Dropdown(\n",
    "            id='country-dropdown',\n",
    "            options=[{'label': country, 'value': country} for country in df_olimpics['Team'].unique()],\n",
    "            value='United States',\n",
    "            multi=False\n",
    "        ),\n",
    "    ]),\n",
    "\n",
    "    html.Div([\n",
    "        html.Label('Selecciona el Deporte'),\n",
    "        dcc.Dropdown(\n",
    "            id='sport-dropdown',\n",
    "            options=[{'label': sport, 'value': sport} for sport in df_olimpics['Sport'].unique()],\n",
    "            multi=False\n",
    "        ),\n",
    "    ]),\n",
    "\n",
    "    dcc.Graph(id='medals-graph'),\n",
    "\n",
    "    html.Div(id='summary-text')\n",
    "])\n",
    "\n",
    "# Definir la lógica de los callbacks\n",
    "@app.callback(\n",
    "    [Output('medals-graph', 'figure'),\n",
    "     Output('summary-text', 'children')],\n",
    "    [Input('country-dropdown', 'value'),\n",
    "     Input('sport-dropdown', 'value')]\n",
    ")\n",
    "def update_graph(selected_country, selected_sport):\n",
    "    filtered_df = df_olimpics[(df_olimpics['Team'] == selected_country) & (df_olimpics['Sport'] == selected_sport)]\n",
    "\n",
    "    # Contar las medallas por tipo\n",
    "    medals_count = filtered_df['Medal'].value_counts().reset_index()\n",
    "    medals_count.columns = ['Medal', 'Count']\n",
    "\n",
    "    # Crear el gráfico de barras\n",
    "    fig = px.bar(medals_count, x='Medal', y='Count', color='Medal',\n",
    "                 title=f'Medallas ganadas por {selected_country} en {selected_sport}')\n",
    "\n",
    "    # Texto resumen\n",
    "    total_medals = filtered_df.shape[0]\n",
    "    text_summary = f'{selected_country} ha ganado un total de {total_medals} medallas en {selected_sport}.'\n",
    "\n",
    "    return fig, text_summary\n",
    "\n",
    "# Ejecutar la app\n",
    "if __name__ == '__main__':\n",
    "    app.run_server(debug=True)"
   ]
  },
  {
   "cell_type": "code",
   "execution_count": null,
   "id": "32543004-dc41-47ba-abe2-a78ef41b4635",
   "metadata": {},
   "outputs": [],
   "source": []
  }
 ],
 "metadata": {
  "kernelspec": {
   "display_name": "Python 3 (ipykernel)",
   "language": "python",
   "name": "python3"
  },
  "language_info": {
   "codemirror_mode": {
    "name": "ipython",
    "version": 3
   },
   "file_extension": ".py",
   "mimetype": "text/x-python",
   "name": "python",
   "nbconvert_exporter": "python",
   "pygments_lexer": "ipython3",
   "version": "3.12.4"
  }
 },
 "nbformat": 4,
 "nbformat_minor": 5
}
